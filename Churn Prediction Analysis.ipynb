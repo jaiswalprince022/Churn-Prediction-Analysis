{
 "cells": [
  {
   "cell_type": "markdown",
   "id": "5a5caf4a",
   "metadata": {},
   "source": [
    "#### Importing Various Libraries for Churning"
   ]
  },
  {
   "cell_type": "code",
   "execution_count": null,
   "id": "0e86fd50",
   "metadata": {},
   "outputs": [],
   "source": [
    "import pandas as pd\n",
    "from sklearn import metrics\n",
    "from sklearn.model_selection import train_test_split\n",
    "from sklearn.metrics import recall_score\n",
    "from sklearn.metrics import classification_report\n",
    "from sklearn.metrics import confusion_matrix\n",
    "from sklearn.tree import DecisionTreeClassifier\n",
    "from sklearn.ensemble import RandomForestClassifier\n",
    "from imblearn.over_sampling import SMOTE"
   ]
  },
  {
   "cell_type": "code",
   "execution_count": null,
   "id": "d053bbcb",
   "metadata": {},
   "outputs": [],
   "source": [
    "import numpy as np\n",
    "import seaborn as sns\n",
    "import matplotlib.ticker as mtick\n",
    "import matplotlib.pyplot as plt\n",
    "%matplotlib inline"
   ]
  },
  {
   "cell_type": "markdown",
   "id": "ac6c83de",
   "metadata": {},
   "source": [
    "### Full EDA"
   ]
  },
  {
   "cell_type": "code",
   "execution_count": null,
   "id": "2d570191",
   "metadata": {},
   "outputs": [],
   "source": [
    "df = pd.read_excel(r\"C:\\Users\\jaisw\\Downloads\\customer_churn_large_dataset.xlsx\")\n",
    "df.head()"
   ]
  },
  {
   "cell_type": "code",
   "execution_count": null,
   "id": "73eea0fe",
   "metadata": {},
   "outputs": [],
   "source": [
    "df.shape"
   ]
  },
  {
   "cell_type": "code",
   "execution_count": null,
   "id": "db302e15",
   "metadata": {},
   "outputs": [],
   "source": [
    "df.columns.values"
   ]
  },
  {
   "cell_type": "code",
   "execution_count": null,
   "id": "c2348e14",
   "metadata": {},
   "outputs": [],
   "source": [
    "df.dtypes"
   ]
  },
  {
   "cell_type": "code",
   "execution_count": null,
   "id": "f339a0c5",
   "metadata": {},
   "outputs": [],
   "source": [
    "df.describe"
   ]
  },
  {
   "cell_type": "code",
   "execution_count": null,
   "id": "aa205252",
   "metadata": {},
   "outputs": [],
   "source": [
    "df.describe()"
   ]
  },
  {
   "cell_type": "code",
   "execution_count": null,
   "id": "369a220e",
   "metadata": {},
   "outputs": [],
   "source": [
    "# from scipy import stats\n",
    "# z_score = np.abs(stats.zscore(df))\n",
    "# df = df[(z_score<3).all(axis=1)]"
   ]
  },
  {
   "cell_type": "markdown",
   "id": "477fb3cf",
   "metadata": {},
   "source": [
    "By looking at above description of data we conclude that there are total of 100000 cases in which average monthly charges are 65.05 where as 25% consumers pay more than 82.64. \n",
    "we also conclude that average age of people are 44 years whereas only 25% people are age above 57 years who usage more than 387 GB of data."
   ]
  },
  {
   "cell_type": "code",
   "execution_count": null,
   "id": "4522d382",
   "metadata": {},
   "outputs": [],
   "source": [
    "df['Churn'].value_counts().plot(kind='barh', figsize=(8,6))\n",
    "plt.xlabel(\"Count\", labelpad=14)\n",
    "plt.ylabel(\"Target Variable\", labelpad=14)\n",
    "plt.title(\"Count of TARGET Variable per category\", y=1.02);"
   ]
  },
  {
   "cell_type": "code",
   "execution_count": null,
   "id": "9f233de0",
   "metadata": {},
   "outputs": [],
   "source": [
    "df['Churn'].value_counts()"
   ]
  },
  {
   "cell_type": "code",
   "execution_count": null,
   "id": "a18bb3a0",
   "metadata": {},
   "outputs": [],
   "source": [
    "100*df['Churn'].value_counts()/len(df['Churn'])"
   ]
  },
  {
   "cell_type": "markdown",
   "id": "105b4410",
   "metadata": {},
   "source": [
    "Data is imbalance : ratio-50:49 So we analyse the data with other features while taking the target values separately to get some insights."
   ]
  },
  {
   "cell_type": "code",
   "execution_count": null,
   "id": "6b8b8c63",
   "metadata": {},
   "outputs": [],
   "source": [
    "df.info(verbose=True)"
   ]
  },
  {
   "cell_type": "code",
   "execution_count": null,
   "id": "b08683ad",
   "metadata": {},
   "outputs": [],
   "source": [
    "missin = pd.DataFrame((df.isnull().sum())*100/df.shape[0]).reset_index()\n",
    "plt.figure(figsize=(16,5))\n",
    "# ax = sns.pointplot('index',0,data=missing)\n",
    "plt.xticks(rotation=90, fontsize=7)\n",
    "plt.title(\"Percentage of missing values\")\n",
    "plt.ylabel(\"PERCENTAGE\")\n",
    "plt.show()"
   ]
  },
  {
   "cell_type": "markdown",
   "id": "7d1af4a3",
   "metadata": {},
   "source": [
    "We dont have missing value here.\n",
    "\n",
    "General Thumb Rules:\n",
    "\n",
    "For features with less missing values- can use regression to predict the missing values or fill with the mean of the values present, depending on the feature.\n",
    "\n",
    "For features with very high number of missing values- it is better to drop those columns as they give very less insight on analysis.\n",
    "\n",
    "As there's no thumb rule on what criteria do we delete the columns with high number of missing values, but generally you can delete the columns, if you have more than 30-40% of missing values."
   ]
  },
  {
   "cell_type": "markdown",
   "id": "502d5e12",
   "metadata": {},
   "source": [
    "#### Data Cleaning "
   ]
  },
  {
   "cell_type": "code",
   "execution_count": null,
   "id": "0a524628",
   "metadata": {},
   "outputs": [],
   "source": [
    "df_copy= df.copy()"
   ]
  },
  {
   "cell_type": "code",
   "execution_count": null,
   "id": "ff14145a",
   "metadata": {},
   "outputs": [],
   "source": [
    "df_copy.Total_Usage_GB = pd.to_numeric(df_copy.Total_Usage_GB, errors='coerce')\n",
    "df_copy.isnull().sum()"
   ]
  },
  {
   "cell_type": "code",
   "execution_count": null,
   "id": "4c86f033",
   "metadata": {},
   "outputs": [],
   "source": [
    "print(df_copy['Subscription_Length_Months'].max())"
   ]
  },
  {
   "cell_type": "code",
   "execution_count": null,
   "id": "c6530a73",
   "metadata": {},
   "outputs": [],
   "source": [
    "# Group the Age in bins if \n",
    "labels = [\"{0}-{1}\".format(i, i+5)for i in range(1,24,6)]\n",
    "df_copy['Subscription_Length_Months_group'] = pd.cut(df_copy.Subscription_Length_Months, range(1,30,6), right=False, labels=labels)"
   ]
  },
  {
   "cell_type": "code",
   "execution_count": null,
   "id": "96568bd0",
   "metadata": {},
   "outputs": [],
   "source": [
    "df_copy['Subscription_Length_Months_group'].value_counts()"
   ]
  },
  {
   "cell_type": "markdown",
   "id": "c3a211e7",
   "metadata": {},
   "source": [
    "Removing the columns that is not required."
   ]
  },
  {
   "cell_type": "code",
   "execution_count": null,
   "id": "1504b88d",
   "metadata": {},
   "outputs": [],
   "source": [
    "df_copy.drop(columns= ['CustomerID','Subscription_Length_Months','Name'], axis=1, inplace= True)\n",
    "df_copy.head()"
   ]
  },
  {
   "cell_type": "markdown",
   "id": "dd7de543",
   "metadata": {},
   "source": [
    "#### Data Exploration| "
   ]
  },
  {
   "cell_type": "markdown",
   "id": "84197084",
   "metadata": {},
   "source": [
    " Plot distribution of individual predictors by churn."
   ]
  },
  {
   "cell_type": "markdown",
   "id": "c4444e59",
   "metadata": {},
   "source": [
    "*UNIVERIATE ANALYSIS*"
   ]
  },
  {
   "cell_type": "code",
   "execution_count": null,
   "id": "4da87a53",
   "metadata": {},
   "outputs": [],
   "source": [
    "for i, predictor in enumerate (df_copy.drop(columns=['Churn', 'Monthly_Bill'])):\n",
    "        plt.figure(i)\n",
    "        sns.countplot(data=df_copy, x=predictor,hue='Churn')\n",
    "    "
   ]
  },
  {
   "cell_type": "markdown",
   "id": "79fd2370",
   "metadata": {},
   "source": [
    " Convert the target variable 'Churn' in a binary numeric variable i.e. Yes=1; No=0"
   ]
  },
  {
   "cell_type": "code",
   "execution_count": null,
   "id": "30db7416",
   "metadata": {},
   "outputs": [],
   "source": [
    "# df_copy['Churn'] = np.where(df_copy.Churn == 'Yes',1,0)"
   ]
  },
  {
   "cell_type": "code",
   "execution_count": null,
   "id": "fdfc432f",
   "metadata": {},
   "outputs": [],
   "source": [
    "# df_copy.head(5)"
   ]
  },
  {
   "cell_type": "markdown",
   "id": "f5b5779d",
   "metadata": {},
   "source": [
    " Convert all the categorical variables into dummy variables"
   ]
  },
  {
   "cell_type": "code",
   "execution_count": null,
   "id": "91d70aa4",
   "metadata": {},
   "outputs": [],
   "source": [
    "df_copy_dummy = pd.get_dummies(df_copy)\n",
    "df_copy_dummy.head()"
   ]
  },
  {
   "cell_type": "code",
   "execution_count": null,
   "id": "177d1a82",
   "metadata": {},
   "outputs": [],
   "source": [
    "Mth = sns.kdeplot(df_copy_dummy.Monthly_Bill[(df_copy_dummy[\"Churn\"] == 0) ],\n",
    "                color=\"Red\", shade = True)\n",
    "Mth = sns.kdeplot(df_copy_dummy.Monthly_Bill[(df_copy_dummy[\"Churn\"] == 1) ],\n",
    "                ax =Mth, color=\"Blue\", shade= True)\n",
    "Mth.legend([\"No Churn\",\"Churn\"],loc='upper right')\n",
    "Mth.set_ylabel('Density')\n",
    "Mth.set_xlabel('Monthly Charges')\n",
    "Mth.set_title('Monthly charges by churn')"
   ]
  },
  {
   "cell_type": "markdown",
   "id": "0e7b52d5",
   "metadata": {},
   "source": [
    "Insights:\n",
    "          Churn is have slice differences per charges there is no major changes in it."
   ]
  },
  {
   "cell_type": "markdown",
   "id": "74c2f93c",
   "metadata": {},
   "source": [
    "Build a correlation of all predictors with churn."
   ]
  },
  {
   "cell_type": "code",
   "execution_count": null,
   "id": "8062d022",
   "metadata": {},
   "outputs": [],
   "source": [
    "plt.figure(figsize=(24,10))\n",
    "df_copy_dummy.corr()['Churn'].sort_values(ascending =False).plot(kind='bar')"
   ]
  },
  {
   "cell_type": "markdown",
   "id": "c4e6255e",
   "metadata": {},
   "source": [
    "Insights:\n",
    "    There is no major deviation in churn through other properties."
   ]
  },
  {
   "cell_type": "code",
   "execution_count": null,
   "id": "191fa5cd",
   "metadata": {},
   "outputs": [],
   "source": [
    "plt.figure(figsize=(12,12))\n",
    "sns.heatmap(df_copy_dummy.corr(), cmap=\"Paired\")"
   ]
  },
  {
   "cell_type": "markdown",
   "id": "ad4f9742",
   "metadata": {},
   "source": [
    "Insights: Here from HeatMap we get a lot of details."
   ]
  },
  {
   "cell_type": "code",
   "execution_count": null,
   "id": "b77d094e",
   "metadata": {},
   "outputs": [],
   "source": [
    "df_copy_dummy.to_csv('new_churn.csv')"
   ]
  },
  {
   "cell_type": "code",
   "execution_count": null,
   "id": "0c28a51a",
   "metadata": {},
   "outputs": [],
   "source": [
    "dp= pd.read_csv(\"new_churn.csv\")\n",
    "dp.head()"
   ]
  },
  {
   "cell_type": "code",
   "execution_count": null,
   "id": "6c3df860",
   "metadata": {},
   "outputs": [],
   "source": [
    "dp = dp.drop('Unnamed: 0', axis=1)"
   ]
  },
  {
   "cell_type": "code",
   "execution_count": null,
   "id": "ccedf5f5",
   "metadata": {},
   "outputs": [],
   "source": [
    "# creating x and y variable for model\n",
    "x=dp.drop('Churn', axis=1)\n",
    "x"
   ]
  },
  {
   "cell_type": "code",
   "execution_count": null,
   "id": "aaa2f95e",
   "metadata": {},
   "outputs": [],
   "source": [
    "y=dp['Churn']\n",
    "y"
   ]
  },
  {
   "cell_type": "markdown",
   "id": "7fe9cd85",
   "metadata": {},
   "source": [
    "#### Decision Tree Classifier"
   ]
  },
  {
   "cell_type": "code",
   "execution_count": null,
   "id": "c28fe850",
   "metadata": {},
   "outputs": [],
   "source": [
    "# Train Test split\n",
    "x_train,x_test,y_train,y_test=train_test_split(x,y,test_size=0.2, random_state=42)"
   ]
  },
  {
   "cell_type": "code",
   "execution_count": null,
   "id": "6c8fe412",
   "metadata": {},
   "outputs": [],
   "source": [
    "model_dt=DecisionTreeClassifier(criterion = \"gini\", random_state = 100, max_depth=6, min_samples_leaf=8)"
   ]
  },
  {
   "cell_type": "code",
   "execution_count": null,
   "id": "9708fd26",
   "metadata": {},
   "outputs": [],
   "source": [
    "model_dt.fit(x_train,y_train)"
   ]
  },
  {
   "cell_type": "code",
   "execution_count": null,
   "id": "14b3f8de",
   "metadata": {},
   "outputs": [],
   "source": [
    "y_pred=model_dt.predict(x_test)\n",
    "y_pred"
   ]
  },
  {
   "cell_type": "code",
   "execution_count": null,
   "id": "0d926b13",
   "metadata": {},
   "outputs": [],
   "source": [
    "model_dt.score(x_test,y_test)"
   ]
  },
  {
   "cell_type": "code",
   "execution_count": null,
   "id": "1be6702b",
   "metadata": {},
   "outputs": [],
   "source": [
    "print(classification_report(y_test, y_pred, labels=[0,1]))"
   ]
  },
  {
   "cell_type": "markdown",
   "id": "3a575958",
   "metadata": {},
   "source": [
    "We can see here for churn(1) the report is not showing great result so now we will use smote to upsampling and ENN of data again in model."
   ]
  },
  {
   "cell_type": "code",
   "execution_count": null,
   "id": "8eec412a",
   "metadata": {},
   "outputs": [],
   "source": [
    "sm = SMOTE()\n",
    "X_resampled, y_resampled = sm.fit_resample(x,y)"
   ]
  },
  {
   "cell_type": "code",
   "execution_count": null,
   "id": "0cdab77b",
   "metadata": {},
   "outputs": [],
   "source": [
    "xr_train,xr_test,yr_train,yr_test=train_test_split(X_resampled, y_resampled,test_size=0.2)"
   ]
  },
  {
   "cell_type": "code",
   "execution_count": null,
   "id": "8242574f",
   "metadata": {},
   "outputs": [],
   "source": [
    "model_dt_smote=DecisionTreeClassifier(criterion=\"gini\", random_state=100, max_depth=6, min_samples_leaf=8)"
   ]
  },
  {
   "cell_type": "code",
   "execution_count": null,
   "id": "fb875b72",
   "metadata": {},
   "outputs": [],
   "source": [
    "model_dt_smote.fit(xr_train,yr_train)\n",
    "yr_predict = model_dt_smote.predict(xr_test)\n",
    "model_score_r = model_dt_smote.score(xr_test, yr_test)\n",
    "print(model_score_r)\n",
    "print(metrics.classification_report(yr_test, yr_predict))"
   ]
  },
  {
   "cell_type": "code",
   "execution_count": null,
   "id": "426cf9b5",
   "metadata": {},
   "outputs": [],
   "source": [
    "print(metrics.confusion_matrix(yr_test, yr_predict))"
   ]
  },
  {
   "cell_type": "markdown",
   "id": "67a99c63",
   "metadata": {},
   "source": [
    "#### Random Forest Classifier "
   ]
  },
  {
   "cell_type": "code",
   "execution_count": null,
   "id": "e3a4478e",
   "metadata": {},
   "outputs": [],
   "source": [
    "model_rf = RandomForestClassifier(n_estimators=100, criterion=\"gini\", random_state=100, max_depth=6, min_samples_leaf=8)"
   ]
  },
  {
   "cell_type": "code",
   "execution_count": null,
   "id": "23e72205",
   "metadata": {},
   "outputs": [],
   "source": [
    "model_rf.fit(x_train,y_train)"
   ]
  },
  {
   "cell_type": "code",
   "execution_count": null,
   "id": "ea000926",
   "metadata": {},
   "outputs": [],
   "source": [
    "y_pred =model_rf.predict(x_test)"
   ]
  },
  {
   "cell_type": "code",
   "execution_count": null,
   "id": "ea8d4f4d",
   "metadata": {},
   "outputs": [],
   "source": [
    "model_rf.score(x_test,y_test)"
   ]
  },
  {
   "cell_type": "code",
   "execution_count": null,
   "id": "bf0c23db",
   "metadata": {},
   "outputs": [],
   "source": [
    "print(classification_report(y_test, y_pred, labels=[0,1]))"
   ]
  },
  {
   "cell_type": "code",
   "execution_count": null,
   "id": "2cb51c8e",
   "metadata": {},
   "outputs": [],
   "source": [
    "sm= SMOTE()\n",
    "X_resampled1, y_resampled1 = sm.fit_resample(x,y)"
   ]
  },
  {
   "cell_type": "code",
   "execution_count": null,
   "id": "513aa0cb",
   "metadata": {},
   "outputs": [],
   "source": [
    "xr_train1,xr_test1,yr_train1,yr_test1=train_test_split(X_resampled1, y_resampled1, test_size=0.2)"
   ]
  },
  {
   "cell_type": "code",
   "execution_count": null,
   "id": "37967031",
   "metadata": {},
   "outputs": [],
   "source": [
    "model_rf_smote=RandomForestClassifier(n_estimators=100, criterion=\"gini\", random_state=100, max_depth=6, min_samples_leaf=8)"
   ]
  },
  {
   "cell_type": "code",
   "execution_count": null,
   "id": "b154693d",
   "metadata": {},
   "outputs": [],
   "source": [
    "model_rf_smote.fit(xr_train1,yr_train1)"
   ]
  },
  {
   "cell_type": "code",
   "execution_count": null,
   "id": "99f1db39",
   "metadata": {},
   "outputs": [],
   "source": [
    "yr_predict1 = model_rf_smote.predict(xr_test1)"
   ]
  },
  {
   "cell_type": "code",
   "execution_count": null,
   "id": "e62d03de",
   "metadata": {},
   "outputs": [],
   "source": [
    "model_score_r1 = model_rf_smote.score(xr_test1, yr_test1)"
   ]
  },
  {
   "cell_type": "code",
   "execution_count": null,
   "id": "7aaeaa94",
   "metadata": {},
   "outputs": [],
   "source": [
    "print(model_score_r1)\n",
    "print(metrics.classification_report(yr_test1, yr_predict1))"
   ]
  },
  {
   "cell_type": "code",
   "execution_count": null,
   "id": "eac379cd",
   "metadata": {},
   "outputs": [],
   "source": [
    "print(metrics.confusion_matrix(yr_test1, yr_predict1))"
   ]
  },
  {
   "cell_type": "code",
   "execution_count": null,
   "id": "4b76da4e",
   "metadata": {},
   "outputs": [],
   "source": [
    "sns.lmplot(data=df_copy_dummy, x='Monthly_Bill', y='Age', fit_reg= False)"
   ]
  },
  {
   "cell_type": "code",
   "execution_count": null,
   "id": "b15ea972",
   "metadata": {},
   "outputs": [],
   "source": [
    "df_copy_dummy.head(1)"
   ]
  },
  {
   "cell_type": "code",
   "execution_count": null,
   "id": "ddff2137",
   "metadata": {},
   "outputs": [],
   "source": [
    "dp['Bill_Per_GB']=dp['Monthly_Bill']/dp['Total_Usage_GB']"
   ]
  },
  {
   "cell_type": "markdown",
   "id": "33b5a847",
   "metadata": {},
   "source": [
    "#### Feature Scaling"
   ]
  },
  {
   "cell_type": "code",
   "execution_count": null,
   "id": "6526b507",
   "metadata": {},
   "outputs": [],
   "source": [
    "from sklearn.preprocessing import MinMaxScaler\n",
    "scaler = MinMaxScaler()\n",
    "x_train = scaler.fit_transform(x_train)\n",
    "x_test = scaler.transform(x_test)"
   ]
  },
  {
   "cell_type": "code",
   "execution_count": null,
   "id": "21c992fd",
   "metadata": {},
   "outputs": [],
   "source": [
    "from sklearn.linear_model import LogisticRegression\n",
    "model = LogisticRegression()\n",
    "model.fit(x_train,y_train)"
   ]
  },
  {
   "cell_type": "code",
   "execution_count": null,
   "id": "c90855d8",
   "metadata": {},
   "outputs": [],
   "source": [
    "from sklearn.metrics import accuracy_score, precision_score, recall_score, f1_score\n",
    "y_pred = model.predict(x_test)\n",
    "accuracy = accuracy_score(y_test, y_pred)\n",
    "precision = precision_score(y_test, y_pred)\n",
    "recall = recall_score(y_test, y_pred)\n",
    "f1 = f1_score(y_test, y_pred)"
   ]
  },
  {
   "cell_type": "code",
   "execution_count": null,
   "id": "088fe6d7",
   "metadata": {},
   "outputs": [],
   "source": [
    "dp.head(1)"
   ]
  },
  {
   "cell_type": "code",
   "execution_count": null,
   "id": "da854dfe",
   "metadata": {},
   "outputs": [],
   "source": [
    "from sklearn.model_selection import GridSearchCV\n",
    "param_grid = {'C':[0.1, 1, 10]}\n",
    "grid_search = GridSearchCV(LogisticRegression(), param_grid, cv=5)\n",
    "grid_search.fit(x_train, y_train)\n",
    "best_model = grid_search.best_estimator_"
   ]
  },
  {
   "cell_type": "markdown",
   "id": "b1877dd5",
   "metadata": {},
   "source": [
    "#### Model Deployment"
   ]
  },
  {
   "cell_type": "code",
   "execution_count": null,
   "id": "d0c3007c",
   "metadata": {},
   "outputs": [],
   "source": [
    "import joblib\n",
    "joblib.dump(model, 'churn_model.pkl')"
   ]
  },
  {
   "cell_type": "code",
   "execution_count": null,
   "id": "61c57363",
   "metadata": {},
   "outputs": [],
   "source": [
    "joblib.dump(scaler, 'data_scaler.pkl')"
   ]
  },
  {
   "cell_type": "code",
   "execution_count": null,
   "id": "f21558cb",
   "metadata": {},
   "outputs": [],
   "source": [
    "from flask import Flask, request, jsonify\n",
    "app = Flask(__name__)\n",
    "model =joblib.load('churn_model.pkl')\n",
    "scaler = joblib('data_scaler.pkl')\n",
    "@app.route('/predict_churn', methods=['POST'])\n",
    "def predict_churn():\n",
    "    df=request.get_json()\n",
    "    new_df = pd.DataFrame(dp, index=[0])\n",
    "    \n",
    "    new_df.fillna(method='ffill', inplace=True)\n",
    "    new_df['Bill_Per_GB'] = new_df['Monthly_Bill'] / new_df['Total_Usage_GB']\n",
    "    new_df = pd.get_dummies(new_df, columns=['Gender', 'Location'])\n",
    "    new_df_scaled = scaler.transform(new_df)\n",
    "    \n",
    "    prediction = model.predict(new_df_scaled)\n",
    "    \n",
    "    return jsonify({'churn_prediction':prediction[0]})\n",
    "if __name__ == '__main':\n",
    "    app.run(debug=True)"
   ]
  },
  {
   "cell_type": "code",
   "execution_count": null,
   "id": "883cf2d9",
   "metadata": {},
   "outputs": [],
   "source": []
  }
 ],
 "metadata": {
  "kernelspec": {
   "display_name": "Python 3 (ipykernel)",
   "language": "python",
   "name": "python3"
  },
  "language_info": {
   "codemirror_mode": {
    "name": "ipython",
    "version": 3
   },
   "file_extension": ".py",
   "mimetype": "text/x-python",
   "name": "python",
   "nbconvert_exporter": "python",
   "pygments_lexer": "ipython3",
   "version": "3.9.0"
  }
 },
 "nbformat": 4,
 "nbformat_minor": 5
}
